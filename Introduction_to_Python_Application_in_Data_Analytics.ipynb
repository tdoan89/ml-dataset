{
  "nbformat": 4,
  "nbformat_minor": 0,
  "metadata": {
    "colab": {
      "name": "Introduction to Python Application in Data Analytics.ipynb",
      "provenance": [],
      "collapsed_sections": [
        "Q0k9h2uZd-kV",
        "-9EBcBmSevFe"
      ]
    },
    "kernelspec": {
      "name": "python3",
      "display_name": "Python 3"
    },
    "language_info": {
      "name": "python"
    }
  },
  "cells": [
    {
      "cell_type": "markdown",
      "metadata": {
        "id": "rUUtJ2fnWSUj"
      },
      "source": [
        "# Giới thiệu Python và ứng dụng trong Phân tích dữ liệu"
      ]
    },
    {
      "cell_type": "markdown",
      "metadata": {
        "id": "K0VDalGDXh1u"
      },
      "source": [
        "## Bài code `Python` đầu tiên"
      ]
    },
    {
      "cell_type": "code",
      "metadata": {
        "colab": {
          "base_uri": "https://localhost:8080/"
        },
        "id": "3yRGYcbwXlYK",
        "outputId": "6b2dc3a0-bec8-41b9-8eba-2541894ac263"
      },
      "source": [
        "print('Hello World!')"
      ],
      "execution_count": null,
      "outputs": [
        {
          "output_type": "stream",
          "name": "stdout",
          "text": [
            "Hello World!\n"
          ]
        }
      ]
    },
    {
      "cell_type": "code",
      "metadata": {
        "id": "wmllBXCmaoNI"
      },
      "source": [
        "print(\"Hello world! What's your name?\")\n",
        "name = input()\n",
        "print(\"Hi\", name, \". Nice to meet you too!\")"
      ],
      "execution_count": null,
      "outputs": []
    },
    {
      "cell_type": "markdown",
      "metadata": {
        "id": "NIyQCElDaump"
      },
      "source": [
        "## Đọc dữ liệu với Pandas"
      ]
    },
    {
      "cell_type": "code",
      "metadata": {
        "id": "fXMbvUXseGie"
      },
      "source": [
        "import pandas as pd"
      ],
      "execution_count": 7,
      "outputs": []
    },
    {
      "cell_type": "markdown",
      "metadata": {
        "id": "Q0k9h2uZd-kV"
      },
      "source": [
        "### Đọc dữ liệu `Excel`"
      ]
    },
    {
      "cell_type": "code",
      "metadata": {
        "id": "qJF20m6Ias-3"
      },
      "source": [
        "excel_file = 'https://github.com/tdoan89/ml-dataset/raw/main/Sample_GL.xlsx'\n",
        "df = pd.read_excel(excel_file)"
      ],
      "execution_count": null,
      "outputs": []
    },
    {
      "cell_type": "code",
      "metadata": {
        "colab": {
          "base_uri": "https://localhost:8080/",
          "height": 424
        },
        "id": "Oq8JYliTeONY",
        "outputId": "f439ccf6-b573-4bfd-fc52-d4496111c5e5"
      },
      "source": [
        "df"
      ],
      "execution_count": null,
      "outputs": [
        {
          "output_type": "execute_result",
          "data": {
            "text/html": [
              "<div>\n",
              "<style scoped>\n",
              "    .dataframe tbody tr th:only-of-type {\n",
              "        vertical-align: middle;\n",
              "    }\n",
              "\n",
              "    .dataframe tbody tr th {\n",
              "        vertical-align: top;\n",
              "    }\n",
              "\n",
              "    .dataframe thead th {\n",
              "        text-align: right;\n",
              "    }\n",
              "</style>\n",
              "<table border=\"1\" class=\"dataframe\">\n",
              "  <thead>\n",
              "    <tr style=\"text-align: right;\">\n",
              "      <th></th>\n",
              "      <th>JeNumber</th>\n",
              "      <th>Header Journal Name</th>\n",
              "      <th>PostDate</th>\n",
              "      <th>Description</th>\n",
              "      <th>AcctNum</th>\n",
              "      <th>Amount</th>\n",
              "      <th>Category</th>\n",
              "    </tr>\n",
              "  </thead>\n",
              "  <tbody>\n",
              "    <tr>\n",
              "      <th>0</th>\n",
              "      <td>4933786</td>\n",
              "      <td>5-2020External Revenue</td>\n",
              "      <td>2019-07-01</td>\n",
              "      <td>Journal Import 2911969:</td>\n",
              "      <td>10005</td>\n",
              "      <td>72101.45</td>\n",
              "      <td>External Revenue</td>\n",
              "    </tr>\n",
              "    <tr>\n",
              "      <th>1</th>\n",
              "      <td>4817578</td>\n",
              "      <td>4-2020Purchase Invoices</td>\n",
              "      <td>2019-06-14</td>\n",
              "      <td>Invoice Voucher Number : 365100001327 , Invoic...</td>\n",
              "      <td>60105</td>\n",
              "      <td>-99780.00</td>\n",
              "      <td>Purchase Invoices</td>\n",
              "    </tr>\n",
              "    <tr>\n",
              "      <th>2</th>\n",
              "      <td>4817578</td>\n",
              "      <td>4-2020Purchase Invoices</td>\n",
              "      <td>2019-06-14</td>\n",
              "      <td>Invoice Voucher Number : 365100001323 , Invoic...</td>\n",
              "      <td>60105</td>\n",
              "      <td>-36380.00</td>\n",
              "      <td>Purchase Invoices</td>\n",
              "    </tr>\n",
              "    <tr>\n",
              "      <th>3</th>\n",
              "      <td>4817578</td>\n",
              "      <td>4-2020Purchase Invoices</td>\n",
              "      <td>2019-06-14</td>\n",
              "      <td>Invoice Voucher Number : 365100001342 , Invoic...</td>\n",
              "      <td>60105</td>\n",
              "      <td>-437.00</td>\n",
              "      <td>Purchase Invoices</td>\n",
              "    </tr>\n",
              "    <tr>\n",
              "      <th>4</th>\n",
              "      <td>4817578</td>\n",
              "      <td>4-2020Purchase Invoices</td>\n",
              "      <td>2019-06-14</td>\n",
              "      <td>Invoice Voucher Number : 365100001337 , Invoic...</td>\n",
              "      <td>60105</td>\n",
              "      <td>-67945.00</td>\n",
              "      <td>Purchase Invoices</td>\n",
              "    </tr>\n",
              "    <tr>\n",
              "      <th>...</th>\n",
              "      <td>...</td>\n",
              "      <td>...</td>\n",
              "      <td>...</td>\n",
              "      <td>...</td>\n",
              "      <td>...</td>\n",
              "      <td>...</td>\n",
              "      <td>...</td>\n",
              "    </tr>\n",
              "    <tr>\n",
              "      <th>146853</th>\n",
              "      <td>5738933</td>\n",
              "      <td>12-2020 External Revenue</td>\n",
              "      <td>2020-02-01</td>\n",
              "      <td>Journal Import 3701067:</td>\n",
              "      <td>51025</td>\n",
              "      <td>145000.00</td>\n",
              "      <td>External Revenue</td>\n",
              "    </tr>\n",
              "    <tr>\n",
              "      <th>146854</th>\n",
              "      <td>5632044</td>\n",
              "      <td>11-2020 Billing Reclassification</td>\n",
              "      <td>2020-01-31</td>\n",
              "      <td>Journal Import 3606256:</td>\n",
              "      <td>66070</td>\n",
              "      <td>792000.00</td>\n",
              "      <td>Billing Offset Reclass</td>\n",
              "    </tr>\n",
              "    <tr>\n",
              "      <th>146855</th>\n",
              "      <td>5552927</td>\n",
              "      <td>10-2020 Credit Memos</td>\n",
              "      <td>2019-12-16</td>\n",
              "      <td>Credit Reason: Duplicate Project Customer Name...</td>\n",
              "      <td>50105</td>\n",
              "      <td>-418000.00</td>\n",
              "      <td>Credit Memos</td>\n",
              "    </tr>\n",
              "    <tr>\n",
              "      <th>146856</th>\n",
              "      <td>5738906</td>\n",
              "      <td>12-2020 Labor Cost</td>\n",
              "      <td>2020-02-01</td>\n",
              "      <td>Journal Import 3701057:</td>\n",
              "      <td>51040</td>\n",
              "      <td>1234.64</td>\n",
              "      <td>Labor Cost</td>\n",
              "    </tr>\n",
              "    <tr>\n",
              "      <th>146857</th>\n",
              "      <td>5466214</td>\n",
              "      <td>10-2020 Billing Reclassification</td>\n",
              "      <td>2019-12-01</td>\n",
              "      <td>Journal Import 3351610:</td>\n",
              "      <td>66070</td>\n",
              "      <td>-6938181.00</td>\n",
              "      <td>Billing Offset Reclass</td>\n",
              "    </tr>\n",
              "  </tbody>\n",
              "</table>\n",
              "<p>146858 rows × 7 columns</p>\n",
              "</div>"
            ],
            "text/plain": [
              "        JeNumber  ...                Category\n",
              "0        4933786  ...        External Revenue\n",
              "1        4817578  ...       Purchase Invoices\n",
              "2        4817578  ...       Purchase Invoices\n",
              "3        4817578  ...       Purchase Invoices\n",
              "4        4817578  ...       Purchase Invoices\n",
              "...          ...  ...                     ...\n",
              "146853   5738933  ...        External Revenue\n",
              "146854   5632044  ...  Billing Offset Reclass\n",
              "146855   5552927  ...            Credit Memos\n",
              "146856   5738906  ...              Labor Cost\n",
              "146857   5466214  ...  Billing Offset Reclass\n",
              "\n",
              "[146858 rows x 7 columns]"
            ]
          },
          "metadata": {},
          "execution_count": 5
        }
      ]
    },
    {
      "cell_type": "code",
      "metadata": {
        "colab": {
          "base_uri": "https://localhost:8080/"
        },
        "id": "ox7m1wYxeWTx",
        "outputId": "8fdf1840-e53a-4a36-8791-09b779030626"
      },
      "source": [
        "df.info()"
      ],
      "execution_count": null,
      "outputs": [
        {
          "output_type": "stream",
          "name": "stdout",
          "text": [
            "<class 'pandas.core.frame.DataFrame'>\n",
            "RangeIndex: 146858 entries, 0 to 146857\n",
            "Data columns (total 7 columns):\n",
            " #   Column               Non-Null Count   Dtype         \n",
            "---  ------               --------------   -----         \n",
            " 0   JeNumber             146858 non-null  int64         \n",
            " 1   Header Journal Name  146858 non-null  object        \n",
            " 2   PostDate             146858 non-null  datetime64[ns]\n",
            " 3   Description          146854 non-null  object        \n",
            " 4   AcctNum              146858 non-null  int64         \n",
            " 5   Amount               146858 non-null  float64       \n",
            " 6   Category             146858 non-null  object        \n",
            "dtypes: datetime64[ns](1), float64(1), int64(2), object(3)\n",
            "memory usage: 7.8+ MB\n"
          ]
        }
      ]
    },
    {
      "cell_type": "markdown",
      "metadata": {
        "id": "-9EBcBmSevFe"
      },
      "source": [
        "### Đọc dữ liệu `CSV`"
      ]
    },
    {
      "cell_type": "code",
      "metadata": {
        "id": "CtbxQnKxeuEW"
      },
      "source": [
        "csv_file = 'https://github.com/tdoan89/ml-dataset/raw/main/Sample_GL_top1000.csv'\n",
        "df = pd.read_csv(csv_file, encoding='utf-8')"
      ],
      "execution_count": null,
      "outputs": []
    },
    {
      "cell_type": "code",
      "metadata": {
        "colab": {
          "base_uri": "https://localhost:8080/",
          "height": 424
        },
        "id": "-k9MpypnfcLc",
        "outputId": "08d38214-c528-47ae-996b-086693e4195a"
      },
      "source": [
        "df"
      ],
      "execution_count": null,
      "outputs": [
        {
          "output_type": "execute_result",
          "data": {
            "text/html": [
              "<div>\n",
              "<style scoped>\n",
              "    .dataframe tbody tr th:only-of-type {\n",
              "        vertical-align: middle;\n",
              "    }\n",
              "\n",
              "    .dataframe tbody tr th {\n",
              "        vertical-align: top;\n",
              "    }\n",
              "\n",
              "    .dataframe thead th {\n",
              "        text-align: right;\n",
              "    }\n",
              "</style>\n",
              "<table border=\"1\" class=\"dataframe\">\n",
              "  <thead>\n",
              "    <tr style=\"text-align: right;\">\n",
              "      <th></th>\n",
              "      <th>JeNumber</th>\n",
              "      <th>Header Journal Name</th>\n",
              "      <th>PostDate</th>\n",
              "      <th>Description</th>\n",
              "      <th>AcctNum</th>\n",
              "      <th>Amount</th>\n",
              "      <th>Category</th>\n",
              "    </tr>\n",
              "  </thead>\n",
              "  <tbody>\n",
              "    <tr>\n",
              "      <th>0</th>\n",
              "      <td>4933786</td>\n",
              "      <td>5-2020External Revenue</td>\n",
              "      <td>2019-07-01</td>\n",
              "      <td>Journal Import 2911969:</td>\n",
              "      <td>10005</td>\n",
              "      <td>72101.45</td>\n",
              "      <td>External Revenue</td>\n",
              "    </tr>\n",
              "    <tr>\n",
              "      <th>1</th>\n",
              "      <td>4817578</td>\n",
              "      <td>4-2020Purchase Invoices</td>\n",
              "      <td>2019-06-14</td>\n",
              "      <td>Invoice Voucher Number : 365100001327 , Invoic...</td>\n",
              "      <td>60105</td>\n",
              "      <td>-99780.00</td>\n",
              "      <td>Purchase Invoices</td>\n",
              "    </tr>\n",
              "    <tr>\n",
              "      <th>2</th>\n",
              "      <td>4817578</td>\n",
              "      <td>4-2020Purchase Invoices</td>\n",
              "      <td>2019-06-14</td>\n",
              "      <td>Invoice Voucher Number : 365100001323 , Invoic...</td>\n",
              "      <td>60105</td>\n",
              "      <td>-36380.00</td>\n",
              "      <td>Purchase Invoices</td>\n",
              "    </tr>\n",
              "    <tr>\n",
              "      <th>3</th>\n",
              "      <td>4817578</td>\n",
              "      <td>4-2020Purchase Invoices</td>\n",
              "      <td>2019-06-14</td>\n",
              "      <td>Invoice Voucher Number : 365100001342 , Invoic...</td>\n",
              "      <td>60105</td>\n",
              "      <td>-437.00</td>\n",
              "      <td>Purchase Invoices</td>\n",
              "    </tr>\n",
              "    <tr>\n",
              "      <th>4</th>\n",
              "      <td>4817578</td>\n",
              "      <td>4-2020Purchase Invoices</td>\n",
              "      <td>2019-06-14</td>\n",
              "      <td>Invoice Voucher Number : 365100001337 , Invoic...</td>\n",
              "      <td>60105</td>\n",
              "      <td>-67945.00</td>\n",
              "      <td>Purchase Invoices</td>\n",
              "    </tr>\n",
              "    <tr>\n",
              "      <th>...</th>\n",
              "      <td>...</td>\n",
              "      <td>...</td>\n",
              "      <td>...</td>\n",
              "      <td>...</td>\n",
              "      <td>...</td>\n",
              "      <td>...</td>\n",
              "      <td>...</td>\n",
              "    </tr>\n",
              "    <tr>\n",
              "      <th>995</th>\n",
              "      <td>5151872</td>\n",
              "      <td>7-2020Purchase Invoices</td>\n",
              "      <td>2019-09-11</td>\n",
              "      <td>Invoice Voucher Number : 365100001907 , Invoic...</td>\n",
              "      <td>60105</td>\n",
              "      <td>-154.06</td>\n",
              "      <td>Purchase Invoices</td>\n",
              "    </tr>\n",
              "    <tr>\n",
              "      <th>996</th>\n",
              "      <td>5151872</td>\n",
              "      <td>7-2020Purchase Invoices</td>\n",
              "      <td>2019-09-11</td>\n",
              "      <td>Invoice Voucher Number : 365100001907 , Invoic...</td>\n",
              "      <td>60105</td>\n",
              "      <td>-15992.47</td>\n",
              "      <td>Purchase Invoices</td>\n",
              "    </tr>\n",
              "    <tr>\n",
              "      <th>997</th>\n",
              "      <td>5059806</td>\n",
              "      <td>6-2020Sales Invoices</td>\n",
              "      <td>2019-08-15</td>\n",
              "      <td>Customer Name: EK-Chai Distribution System Co....</td>\n",
              "      <td>62510</td>\n",
              "      <td>-23776.20</td>\n",
              "      <td>Sales Invoices</td>\n",
              "    </tr>\n",
              "    <tr>\n",
              "      <th>998</th>\n",
              "      <td>4824686</td>\n",
              "      <td>4-2020Receipts</td>\n",
              "      <td>2019-06-17</td>\n",
              "      <td>Receipt Application Status: APP Customer Name:...</td>\n",
              "      <td>55060</td>\n",
              "      <td>-324480.00</td>\n",
              "      <td>Receipts</td>\n",
              "    </tr>\n",
              "    <tr>\n",
              "      <th>999</th>\n",
              "      <td>5059806</td>\n",
              "      <td>6-2020Sales Invoices</td>\n",
              "      <td>2019-08-30</td>\n",
              "      <td>Customer Name: Kinetic Worldwide (Thailand) Lt...</td>\n",
              "      <td>62510</td>\n",
              "      <td>-83160.00</td>\n",
              "      <td>Sales Invoices</td>\n",
              "    </tr>\n",
              "  </tbody>\n",
              "</table>\n",
              "<p>1000 rows × 7 columns</p>\n",
              "</div>"
            ],
            "text/plain": [
              "     JeNumber       Header Journal Name  ...     Amount           Category\n",
              "0     4933786   5-2020External Revenue   ...   72101.45   External Revenue\n",
              "1     4817578  4-2020Purchase Invoices   ...  -99780.00  Purchase Invoices\n",
              "2     4817578  4-2020Purchase Invoices   ...  -36380.00  Purchase Invoices\n",
              "3     4817578  4-2020Purchase Invoices   ...    -437.00  Purchase Invoices\n",
              "4     4817578  4-2020Purchase Invoices   ...  -67945.00  Purchase Invoices\n",
              "..        ...                       ...  ...        ...                ...\n",
              "995   5151872  7-2020Purchase Invoices   ...    -154.06  Purchase Invoices\n",
              "996   5151872  7-2020Purchase Invoices   ...  -15992.47  Purchase Invoices\n",
              "997   5059806     6-2020Sales Invoices   ...  -23776.20     Sales Invoices\n",
              "998   4824686           4-2020Receipts   ... -324480.00           Receipts\n",
              "999   5059806     6-2020Sales Invoices   ...  -83160.00     Sales Invoices\n",
              "\n",
              "[1000 rows x 7 columns]"
            ]
          },
          "metadata": {},
          "execution_count": 12
        }
      ]
    },
    {
      "cell_type": "markdown",
      "metadata": {
        "id": "A6SZgWD0gS0g"
      },
      "source": [
        "### Đọc dữ liệu `JSON`"
      ]
    },
    {
      "cell_type": "code",
      "metadata": {
        "id": "TA06e4zmh27S"
      },
      "source": [
        "json_file = 'https://github.com/tdoan89/ml-dataset/raw/main/Sample_GL_top1000.json'\n",
        "df = pd.read_json(json_file)"
      ],
      "execution_count": null,
      "outputs": []
    },
    {
      "cell_type": "code",
      "metadata": {
        "colab": {
          "base_uri": "https://localhost:8080/",
          "height": 424
        },
        "id": "pGiywJKdh7ov",
        "outputId": "34108514-7ace-4b14-d255-82716098d400"
      },
      "source": [
        "df"
      ],
      "execution_count": null,
      "outputs": [
        {
          "output_type": "execute_result",
          "data": {
            "text/html": [
              "<div>\n",
              "<style scoped>\n",
              "    .dataframe tbody tr th:only-of-type {\n",
              "        vertical-align: middle;\n",
              "    }\n",
              "\n",
              "    .dataframe tbody tr th {\n",
              "        vertical-align: top;\n",
              "    }\n",
              "\n",
              "    .dataframe thead th {\n",
              "        text-align: right;\n",
              "    }\n",
              "</style>\n",
              "<table border=\"1\" class=\"dataframe\">\n",
              "  <thead>\n",
              "    <tr style=\"text-align: right;\">\n",
              "      <th></th>\n",
              "      <th>JeNumber</th>\n",
              "      <th>Header Journal Name</th>\n",
              "      <th>PostDate</th>\n",
              "      <th>Description</th>\n",
              "      <th>AcctNum</th>\n",
              "      <th>Amount</th>\n",
              "      <th>Category</th>\n",
              "    </tr>\n",
              "  </thead>\n",
              "  <tbody>\n",
              "    <tr>\n",
              "      <th>0</th>\n",
              "      <td>4933786</td>\n",
              "      <td>5-2020External Revenue</td>\n",
              "      <td>2019-07-01</td>\n",
              "      <td>Journal Import 2911969:</td>\n",
              "      <td>10005</td>\n",
              "      <td>72101.45</td>\n",
              "      <td>External Revenue</td>\n",
              "    </tr>\n",
              "    <tr>\n",
              "      <th>1</th>\n",
              "      <td>4817578</td>\n",
              "      <td>4-2020Purchase Invoices</td>\n",
              "      <td>2019-06-14</td>\n",
              "      <td>Invoice Voucher Number : 365100001327 , Invoic...</td>\n",
              "      <td>60105</td>\n",
              "      <td>-99780.00</td>\n",
              "      <td>Purchase Invoices</td>\n",
              "    </tr>\n",
              "    <tr>\n",
              "      <th>2</th>\n",
              "      <td>4817578</td>\n",
              "      <td>4-2020Purchase Invoices</td>\n",
              "      <td>2019-06-14</td>\n",
              "      <td>Invoice Voucher Number : 365100001323 , Invoic...</td>\n",
              "      <td>60105</td>\n",
              "      <td>-36380.00</td>\n",
              "      <td>Purchase Invoices</td>\n",
              "    </tr>\n",
              "    <tr>\n",
              "      <th>3</th>\n",
              "      <td>4817578</td>\n",
              "      <td>4-2020Purchase Invoices</td>\n",
              "      <td>2019-06-14</td>\n",
              "      <td>Invoice Voucher Number : 365100001342 , Invoic...</td>\n",
              "      <td>60105</td>\n",
              "      <td>-437.00</td>\n",
              "      <td>Purchase Invoices</td>\n",
              "    </tr>\n",
              "    <tr>\n",
              "      <th>4</th>\n",
              "      <td>4817578</td>\n",
              "      <td>4-2020Purchase Invoices</td>\n",
              "      <td>2019-06-14</td>\n",
              "      <td>Invoice Voucher Number : 365100001337 , Invoic...</td>\n",
              "      <td>60105</td>\n",
              "      <td>-67945.00</td>\n",
              "      <td>Purchase Invoices</td>\n",
              "    </tr>\n",
              "    <tr>\n",
              "      <th>...</th>\n",
              "      <td>...</td>\n",
              "      <td>...</td>\n",
              "      <td>...</td>\n",
              "      <td>...</td>\n",
              "      <td>...</td>\n",
              "      <td>...</td>\n",
              "      <td>...</td>\n",
              "    </tr>\n",
              "    <tr>\n",
              "      <th>995</th>\n",
              "      <td>5151872</td>\n",
              "      <td>7-2020Purchase Invoices</td>\n",
              "      <td>2019-09-11</td>\n",
              "      <td>Invoice Voucher Number : 365100001907 , Invoic...</td>\n",
              "      <td>60105</td>\n",
              "      <td>-154.06</td>\n",
              "      <td>Purchase Invoices</td>\n",
              "    </tr>\n",
              "    <tr>\n",
              "      <th>996</th>\n",
              "      <td>5151872</td>\n",
              "      <td>7-2020Purchase Invoices</td>\n",
              "      <td>2019-09-11</td>\n",
              "      <td>Invoice Voucher Number : 365100001907 , Invoic...</td>\n",
              "      <td>60105</td>\n",
              "      <td>-15992.47</td>\n",
              "      <td>Purchase Invoices</td>\n",
              "    </tr>\n",
              "    <tr>\n",
              "      <th>997</th>\n",
              "      <td>5059806</td>\n",
              "      <td>6-2020Sales Invoices</td>\n",
              "      <td>2019-08-15</td>\n",
              "      <td>Customer Name: EK-Chai Distribution System Co....</td>\n",
              "      <td>62510</td>\n",
              "      <td>-23776.20</td>\n",
              "      <td>Sales Invoices</td>\n",
              "    </tr>\n",
              "    <tr>\n",
              "      <th>998</th>\n",
              "      <td>4824686</td>\n",
              "      <td>4-2020Receipts</td>\n",
              "      <td>2019-06-17</td>\n",
              "      <td>Receipt Application Status: APP Customer Name:...</td>\n",
              "      <td>55060</td>\n",
              "      <td>-324480.00</td>\n",
              "      <td>Receipts</td>\n",
              "    </tr>\n",
              "    <tr>\n",
              "      <th>999</th>\n",
              "      <td>5059806</td>\n",
              "      <td>6-2020Sales Invoices</td>\n",
              "      <td>2019-08-30</td>\n",
              "      <td>Customer Name: Kinetic Worldwide (Thailand) Lt...</td>\n",
              "      <td>62510</td>\n",
              "      <td>-83160.00</td>\n",
              "      <td>Sales Invoices</td>\n",
              "    </tr>\n",
              "  </tbody>\n",
              "</table>\n",
              "<p>1000 rows × 7 columns</p>\n",
              "</div>"
            ],
            "text/plain": [
              "     JeNumber       Header Journal Name  ...     Amount           Category\n",
              "0     4933786   5-2020External Revenue   ...   72101.45   External Revenue\n",
              "1     4817578  4-2020Purchase Invoices   ...  -99780.00  Purchase Invoices\n",
              "2     4817578  4-2020Purchase Invoices   ...  -36380.00  Purchase Invoices\n",
              "3     4817578  4-2020Purchase Invoices   ...    -437.00  Purchase Invoices\n",
              "4     4817578  4-2020Purchase Invoices   ...  -67945.00  Purchase Invoices\n",
              "..        ...                       ...  ...        ...                ...\n",
              "995   5151872  7-2020Purchase Invoices   ...    -154.06  Purchase Invoices\n",
              "996   5151872  7-2020Purchase Invoices   ...  -15992.47  Purchase Invoices\n",
              "997   5059806     6-2020Sales Invoices   ...  -23776.20     Sales Invoices\n",
              "998   4824686           4-2020Receipts   ... -324480.00           Receipts\n",
              "999   5059806     6-2020Sales Invoices   ...  -83160.00     Sales Invoices\n",
              "\n",
              "[1000 rows x 7 columns]"
            ]
          },
          "metadata": {},
          "execution_count": 19
        }
      ]
    },
    {
      "cell_type": "code",
      "metadata": {
        "colab": {
          "base_uri": "https://localhost:8080/"
        },
        "id": "AQyARBK0h96O",
        "outputId": "dfc8a017-6967-48a9-d446-a32bd5c63a7c"
      },
      "source": [
        "df.info()"
      ],
      "execution_count": null,
      "outputs": [
        {
          "output_type": "stream",
          "name": "stdout",
          "text": [
            "<class 'pandas.core.frame.DataFrame'>\n",
            "RangeIndex: 1000 entries, 0 to 999\n",
            "Data columns (total 7 columns):\n",
            " #   Column               Non-Null Count  Dtype  \n",
            "---  ------               --------------  -----  \n",
            " 0   JeNumber             1000 non-null   int64  \n",
            " 1   Header Journal Name  1000 non-null   object \n",
            " 2   PostDate             1000 non-null   object \n",
            " 3   Description          1000 non-null   object \n",
            " 4   AcctNum              1000 non-null   int64  \n",
            " 5   Amount               1000 non-null   float64\n",
            " 6   Category             1000 non-null   object \n",
            "dtypes: float64(1), int64(2), object(4)\n",
            "memory usage: 54.8+ KB\n"
          ]
        }
      ]
    },
    {
      "cell_type": "markdown",
      "metadata": {
        "id": "EDVbmfqFiF5y"
      },
      "source": [
        "### Đọc dữ liệu từ `WEB`"
      ]
    },
    {
      "cell_type": "code",
      "metadata": {
        "id": "8dckvCWtitlf"
      },
      "source": [
        "ma_co_phieu = 'MBB'"
      ],
      "execution_count": null,
      "outputs": []
    },
    {
      "cell_type": "code",
      "metadata": {
        "id": "ojXXntDtiFR0"
      },
      "source": [
        "url = f'https://www.stockbiz.vn/Stocks/{ma_co_phieu}/HistoricalQuotes.aspx'\n",
        "dfs = pd.read_html(url, encoding='utf-8')"
      ],
      "execution_count": null,
      "outputs": []
    },
    {
      "cell_type": "code",
      "metadata": {
        "colab": {
          "base_uri": "https://localhost:8080/",
          "height": 677
        },
        "id": "vfoWsClvkmnK",
        "outputId": "c143a7bd-3caa-4c95-8179-dbf3c7094911"
      },
      "source": [
        "dfs[11]"
      ],
      "execution_count": null,
      "outputs": [
        {
          "output_type": "execute_result",
          "data": {
            "text/html": [
              "<div>\n",
              "<style scoped>\n",
              "    .dataframe tbody tr th:only-of-type {\n",
              "        vertical-align: middle;\n",
              "    }\n",
              "\n",
              "    .dataframe tbody tr th {\n",
              "        vertical-align: top;\n",
              "    }\n",
              "\n",
              "    .dataframe thead th {\n",
              "        text-align: right;\n",
              "    }\n",
              "</style>\n",
              "<table border=\"1\" class=\"dataframe\">\n",
              "  <thead>\n",
              "    <tr style=\"text-align: right;\">\n",
              "      <th></th>\n",
              "      <th>Ngày</th>\n",
              "      <th>Thay đổi</th>\n",
              "      <th>Mở cửa</th>\n",
              "      <th>Cao nhất</th>\n",
              "      <th>Thấp nhất</th>\n",
              "      <th>Đóng cửa</th>\n",
              "      <th>Trung bình</th>\n",
              "      <th>Đóng cửa ĐC</th>\n",
              "      <th>Khối lượng</th>\n",
              "      <th>Unnamed: 9</th>\n",
              "    </tr>\n",
              "  </thead>\n",
              "  <tbody>\n",
              "    <tr>\n",
              "      <th>0</th>\n",
              "      <td>01/11/2021</td>\n",
              "      <td>+0,05/+0,18%</td>\n",
              "      <td>2860</td>\n",
              "      <td>2870</td>\n",
              "      <td>2845</td>\n",
              "      <td>2855</td>\n",
              "      <td>2856</td>\n",
              "      <td>2855</td>\n",
              "      <td>6.340.900</td>\n",
              "      <td>NaN</td>\n",
              "    </tr>\n",
              "    <tr>\n",
              "      <th>1</th>\n",
              "      <td>29/10/2021</td>\n",
              "      <td>0,00 / 0,00%</td>\n",
              "      <td>2850</td>\n",
              "      <td>2860</td>\n",
              "      <td>2820</td>\n",
              "      <td>2850</td>\n",
              "      <td>2841</td>\n",
              "      <td>2850</td>\n",
              "      <td>10.951.500</td>\n",
              "      <td>NaN</td>\n",
              "    </tr>\n",
              "    <tr>\n",
              "      <th>2</th>\n",
              "      <td>28/10/2021</td>\n",
              "      <td>+0,10/+0,35%</td>\n",
              "      <td>2865</td>\n",
              "      <td>2865</td>\n",
              "      <td>2835</td>\n",
              "      <td>2850</td>\n",
              "      <td>2848</td>\n",
              "      <td>2850</td>\n",
              "      <td>9.106.800</td>\n",
              "      <td>NaN</td>\n",
              "    </tr>\n",
              "    <tr>\n",
              "      <th>3</th>\n",
              "      <td>27/10/2021</td>\n",
              "      <td>+0,45/+1,61%</td>\n",
              "      <td>2800</td>\n",
              "      <td>2840</td>\n",
              "      <td>2795</td>\n",
              "      <td>2840</td>\n",
              "      <td>2821</td>\n",
              "      <td>2840</td>\n",
              "      <td>10.230.000</td>\n",
              "      <td>NaN</td>\n",
              "    </tr>\n",
              "    <tr>\n",
              "      <th>4</th>\n",
              "      <td>26/10/2021</td>\n",
              "      <td>+0,35/+1,27%</td>\n",
              "      <td>2770</td>\n",
              "      <td>2795</td>\n",
              "      <td>2760</td>\n",
              "      <td>2795</td>\n",
              "      <td>2776</td>\n",
              "      <td>2795</td>\n",
              "      <td>6.836.900</td>\n",
              "      <td>NaN</td>\n",
              "    </tr>\n",
              "    <tr>\n",
              "      <th>5</th>\n",
              "      <td>25/10/2021</td>\n",
              "      <td>-0,30/-1,08%</td>\n",
              "      <td>2795</td>\n",
              "      <td>2800</td>\n",
              "      <td>2760</td>\n",
              "      <td>2760</td>\n",
              "      <td>2773</td>\n",
              "      <td>2760</td>\n",
              "      <td>9.365.400</td>\n",
              "      <td>NaN</td>\n",
              "    </tr>\n",
              "    <tr>\n",
              "      <th>6</th>\n",
              "      <td>22/10/2021</td>\n",
              "      <td>0,00 / 0,00%</td>\n",
              "      <td>2815</td>\n",
              "      <td>2815</td>\n",
              "      <td>2785</td>\n",
              "      <td>2790</td>\n",
              "      <td>2797</td>\n",
              "      <td>2790</td>\n",
              "      <td>7.578.900</td>\n",
              "      <td>NaN</td>\n",
              "    </tr>\n",
              "    <tr>\n",
              "      <th>7</th>\n",
              "      <td>21/10/2021</td>\n",
              "      <td>-0,30/-1,06%</td>\n",
              "      <td>2850</td>\n",
              "      <td>2850</td>\n",
              "      <td>2790</td>\n",
              "      <td>2790</td>\n",
              "      <td>2813</td>\n",
              "      <td>2790</td>\n",
              "      <td>10.195.600</td>\n",
              "      <td>NaN</td>\n",
              "    </tr>\n",
              "    <tr>\n",
              "      <th>8</th>\n",
              "      <td>20/10/2021</td>\n",
              "      <td>0,00 / 0,00%</td>\n",
              "      <td>2850</td>\n",
              "      <td>2850</td>\n",
              "      <td>2780</td>\n",
              "      <td>2820</td>\n",
              "      <td>2822</td>\n",
              "      <td>2820</td>\n",
              "      <td>8.937.900</td>\n",
              "      <td>NaN</td>\n",
              "    </tr>\n",
              "    <tr>\n",
              "      <th>9</th>\n",
              "      <td>19/10/2021</td>\n",
              "      <td>-0,20/-0,70%</td>\n",
              "      <td>2850</td>\n",
              "      <td>2850</td>\n",
              "      <td>2810</td>\n",
              "      <td>2820</td>\n",
              "      <td>2829</td>\n",
              "      <td>2820</td>\n",
              "      <td>10.120.000</td>\n",
              "      <td>NaN</td>\n",
              "    </tr>\n",
              "    <tr>\n",
              "      <th>10</th>\n",
              "      <td>18/10/2021</td>\n",
              "      <td>0,00 / 0,00%</td>\n",
              "      <td>2875</td>\n",
              "      <td>2875</td>\n",
              "      <td>2835</td>\n",
              "      <td>2840</td>\n",
              "      <td>2851</td>\n",
              "      <td>2840</td>\n",
              "      <td>8.432.600</td>\n",
              "      <td>NaN</td>\n",
              "    </tr>\n",
              "    <tr>\n",
              "      <th>11</th>\n",
              "      <td>15/10/2021</td>\n",
              "      <td>-0,10/-0,35%</td>\n",
              "      <td>2875</td>\n",
              "      <td>2875</td>\n",
              "      <td>2835</td>\n",
              "      <td>2840</td>\n",
              "      <td>2854</td>\n",
              "      <td>2840</td>\n",
              "      <td>8.189.500</td>\n",
              "      <td>NaN</td>\n",
              "    </tr>\n",
              "    <tr>\n",
              "      <th>12</th>\n",
              "      <td>14/10/2021</td>\n",
              "      <td>-0,10/-0,35%</td>\n",
              "      <td>2875</td>\n",
              "      <td>2880</td>\n",
              "      <td>2850</td>\n",
              "      <td>2850</td>\n",
              "      <td>2865</td>\n",
              "      <td>2850</td>\n",
              "      <td>13.310.200</td>\n",
              "      <td>NaN</td>\n",
              "    </tr>\n",
              "    <tr>\n",
              "      <th>13</th>\n",
              "      <td>13/10/2021</td>\n",
              "      <td>-0,15/-0,52%</td>\n",
              "      <td>2910</td>\n",
              "      <td>2910</td>\n",
              "      <td>2860</td>\n",
              "      <td>2860</td>\n",
              "      <td>2882</td>\n",
              "      <td>2860</td>\n",
              "      <td>10.776.700</td>\n",
              "      <td>NaN</td>\n",
              "    </tr>\n",
              "    <tr>\n",
              "      <th>14</th>\n",
              "      <td>12/10/2021</td>\n",
              "      <td>-0,05/-0,17%</td>\n",
              "      <td>2915</td>\n",
              "      <td>2915</td>\n",
              "      <td>2855</td>\n",
              "      <td>2875</td>\n",
              "      <td>2884</td>\n",
              "      <td>2875</td>\n",
              "      <td>16.399.900</td>\n",
              "      <td>NaN</td>\n",
              "    </tr>\n",
              "    <tr>\n",
              "      <th>15</th>\n",
              "      <td>11/10/2021</td>\n",
              "      <td>+1,10/+3,97%</td>\n",
              "      <td>2780</td>\n",
              "      <td>2880</td>\n",
              "      <td>2775</td>\n",
              "      <td>2880</td>\n",
              "      <td>2830</td>\n",
              "      <td>2880</td>\n",
              "      <td>25.214.700</td>\n",
              "      <td>NaN</td>\n",
              "    </tr>\n",
              "    <tr>\n",
              "      <th>16</th>\n",
              "      <td>08/10/2021</td>\n",
              "      <td>+0,05/+0,18%</td>\n",
              "      <td>2765</td>\n",
              "      <td>2780</td>\n",
              "      <td>2755</td>\n",
              "      <td>2770</td>\n",
              "      <td>2766</td>\n",
              "      <td>2770</td>\n",
              "      <td>8.131.000</td>\n",
              "      <td>NaN</td>\n",
              "    </tr>\n",
              "    <tr>\n",
              "      <th>17</th>\n",
              "      <td>07/10/2021</td>\n",
              "      <td>+0,15/+0,55%</td>\n",
              "      <td>2790</td>\n",
              "      <td>2790</td>\n",
              "      <td>2755</td>\n",
              "      <td>2765</td>\n",
              "      <td>2771</td>\n",
              "      <td>2765</td>\n",
              "      <td>6.508.000</td>\n",
              "      <td>NaN</td>\n",
              "    </tr>\n",
              "    <tr>\n",
              "      <th>18</th>\n",
              "      <td>06/10/2021</td>\n",
              "      <td>+0,10/+0,36%</td>\n",
              "      <td>2750</td>\n",
              "      <td>2755</td>\n",
              "      <td>2715</td>\n",
              "      <td>2750</td>\n",
              "      <td>2732</td>\n",
              "      <td>2750</td>\n",
              "      <td>10.057.200</td>\n",
              "      <td>NaN</td>\n",
              "    </tr>\n",
              "    <tr>\n",
              "      <th>19</th>\n",
              "      <td>05/10/2021</td>\n",
              "      <td>+0,30/+1,11%</td>\n",
              "      <td>2705</td>\n",
              "      <td>2740</td>\n",
              "      <td>2705</td>\n",
              "      <td>2740</td>\n",
              "      <td>2725</td>\n",
              "      <td>2740</td>\n",
              "      <td>9.463.100</td>\n",
              "      <td>NaN</td>\n",
              "    </tr>\n",
              "  </tbody>\n",
              "</table>\n",
              "</div>"
            ],
            "text/plain": [
              "          Ngày      Thay đổi  Mở cửa  ...  Đóng cửa ĐC  Khối lượng  Unnamed: 9\n",
              "0   01/11/2021  +0,05/+0,18%    2860  ...         2855   6.340.900         NaN\n",
              "1   29/10/2021  0,00 / 0,00%    2850  ...         2850  10.951.500         NaN\n",
              "2   28/10/2021  +0,10/+0,35%    2865  ...         2850   9.106.800         NaN\n",
              "3   27/10/2021  +0,45/+1,61%    2800  ...         2840  10.230.000         NaN\n",
              "4   26/10/2021  +0,35/+1,27%    2770  ...         2795   6.836.900         NaN\n",
              "5   25/10/2021  -0,30/-1,08%    2795  ...         2760   9.365.400         NaN\n",
              "6   22/10/2021  0,00 / 0,00%    2815  ...         2790   7.578.900         NaN\n",
              "7   21/10/2021  -0,30/-1,06%    2850  ...         2790  10.195.600         NaN\n",
              "8   20/10/2021  0,00 / 0,00%    2850  ...         2820   8.937.900         NaN\n",
              "9   19/10/2021  -0,20/-0,70%    2850  ...         2820  10.120.000         NaN\n",
              "10  18/10/2021  0,00 / 0,00%    2875  ...         2840   8.432.600         NaN\n",
              "11  15/10/2021  -0,10/-0,35%    2875  ...         2840   8.189.500         NaN\n",
              "12  14/10/2021  -0,10/-0,35%    2875  ...         2850  13.310.200         NaN\n",
              "13  13/10/2021  -0,15/-0,52%    2910  ...         2860  10.776.700         NaN\n",
              "14  12/10/2021  -0,05/-0,17%    2915  ...         2875  16.399.900         NaN\n",
              "15  11/10/2021  +1,10/+3,97%    2780  ...         2880  25.214.700         NaN\n",
              "16  08/10/2021  +0,05/+0,18%    2765  ...         2770   8.131.000         NaN\n",
              "17  07/10/2021  +0,15/+0,55%    2790  ...         2765   6.508.000         NaN\n",
              "18  06/10/2021  +0,10/+0,36%    2750  ...         2750  10.057.200         NaN\n",
              "19  05/10/2021  +0,30/+1,11%    2705  ...         2740   9.463.100         NaN\n",
              "\n",
              "[20 rows x 10 columns]"
            ]
          },
          "metadata": {},
          "execution_count": 49
        }
      ]
    },
    {
      "cell_type": "markdown",
      "metadata": {
        "id": "8aUA5P4Fk1gL"
      },
      "source": [
        "## Lưu dữ liệu với Pandas"
      ]
    },
    {
      "cell_type": "code",
      "metadata": {
        "id": "a4Rga7GZleF-"
      },
      "source": [
        "gia_co_phieu = dfs[11].iloc[:, :-1]"
      ],
      "execution_count": null,
      "outputs": []
    },
    {
      "cell_type": "markdown",
      "metadata": {
        "id": "0lp9c2b9k6bI"
      },
      "source": [
        "### Lưu dữ liệu `Excel`"
      ]
    },
    {
      "cell_type": "code",
      "metadata": {
        "id": "bDGopcFDk0kr"
      },
      "source": [
        "gia_co_phieu.to_excel('gia_co_phieu.xlsx', index=False)"
      ],
      "execution_count": null,
      "outputs": []
    },
    {
      "cell_type": "markdown",
      "metadata": {
        "id": "44Ob-IYJmGp8"
      },
      "source": [
        "### Lưu dữ liệu `CSV`"
      ]
    },
    {
      "cell_type": "code",
      "metadata": {
        "id": "DbmmI_u5mF_A"
      },
      "source": [
        "gia_co_phieu.to_csv('gia_co_phieu.csv', index=False)"
      ],
      "execution_count": null,
      "outputs": []
    },
    {
      "cell_type": "markdown",
      "metadata": {
        "id": "1i2fUNrsmX4D"
      },
      "source": [
        "### Lưu dữ liệu `JSON`"
      ]
    },
    {
      "cell_type": "code",
      "metadata": {
        "id": "GsjTsEBhmXQq"
      },
      "source": [
        "gia_co_phieu.to_json('gia_co_phieu.json', orient='records')"
      ],
      "execution_count": null,
      "outputs": []
    },
    {
      "cell_type": "markdown",
      "metadata": {
        "id": "UWuXoVuPvNUs"
      },
      "source": [
        "## Biến đổi dữ liệu với Pandas"
      ]
    },
    {
      "cell_type": "markdown",
      "metadata": {
        "id": "wOFKyVadzVSB"
      },
      "source": [
        "### Biến đổi và làm sạch dữ liệu"
      ]
    },
    {
      "cell_type": "code",
      "metadata": {
        "colab": {
          "base_uri": "https://localhost:8080/",
          "height": 677
        },
        "id": "Nt2xLzQAvMeR",
        "outputId": "606410df-19cf-40ef-c59f-7618f16c163f"
      },
      "source": [
        "# Lấy ra giá trị tăng và giám của giá cổ phiếu\n",
        "tang_giam = gia_co_phieu['Thay đổi'].str.split('/', expand=True)\n",
        "tang_giam"
      ],
      "execution_count": null,
      "outputs": [
        {
          "output_type": "execute_result",
          "data": {
            "text/html": [
              "<div>\n",
              "<style scoped>\n",
              "    .dataframe tbody tr th:only-of-type {\n",
              "        vertical-align: middle;\n",
              "    }\n",
              "\n",
              "    .dataframe tbody tr th {\n",
              "        vertical-align: top;\n",
              "    }\n",
              "\n",
              "    .dataframe thead th {\n",
              "        text-align: right;\n",
              "    }\n",
              "</style>\n",
              "<table border=\"1\" class=\"dataframe\">\n",
              "  <thead>\n",
              "    <tr style=\"text-align: right;\">\n",
              "      <th></th>\n",
              "      <th>0</th>\n",
              "      <th>1</th>\n",
              "    </tr>\n",
              "  </thead>\n",
              "  <tbody>\n",
              "    <tr>\n",
              "      <th>0</th>\n",
              "      <td>+0,05</td>\n",
              "      <td>+0,18%</td>\n",
              "    </tr>\n",
              "    <tr>\n",
              "      <th>1</th>\n",
              "      <td>0,00</td>\n",
              "      <td>0,00%</td>\n",
              "    </tr>\n",
              "    <tr>\n",
              "      <th>2</th>\n",
              "      <td>+0,10</td>\n",
              "      <td>+0,35%</td>\n",
              "    </tr>\n",
              "    <tr>\n",
              "      <th>3</th>\n",
              "      <td>+0,45</td>\n",
              "      <td>+1,61%</td>\n",
              "    </tr>\n",
              "    <tr>\n",
              "      <th>4</th>\n",
              "      <td>+0,35</td>\n",
              "      <td>+1,27%</td>\n",
              "    </tr>\n",
              "    <tr>\n",
              "      <th>5</th>\n",
              "      <td>-0,30</td>\n",
              "      <td>-1,08%</td>\n",
              "    </tr>\n",
              "    <tr>\n",
              "      <th>6</th>\n",
              "      <td>0,00</td>\n",
              "      <td>0,00%</td>\n",
              "    </tr>\n",
              "    <tr>\n",
              "      <th>7</th>\n",
              "      <td>-0,30</td>\n",
              "      <td>-1,06%</td>\n",
              "    </tr>\n",
              "    <tr>\n",
              "      <th>8</th>\n",
              "      <td>0,00</td>\n",
              "      <td>0,00%</td>\n",
              "    </tr>\n",
              "    <tr>\n",
              "      <th>9</th>\n",
              "      <td>-0,20</td>\n",
              "      <td>-0,70%</td>\n",
              "    </tr>\n",
              "    <tr>\n",
              "      <th>10</th>\n",
              "      <td>0,00</td>\n",
              "      <td>0,00%</td>\n",
              "    </tr>\n",
              "    <tr>\n",
              "      <th>11</th>\n",
              "      <td>-0,10</td>\n",
              "      <td>-0,35%</td>\n",
              "    </tr>\n",
              "    <tr>\n",
              "      <th>12</th>\n",
              "      <td>-0,10</td>\n",
              "      <td>-0,35%</td>\n",
              "    </tr>\n",
              "    <tr>\n",
              "      <th>13</th>\n",
              "      <td>-0,15</td>\n",
              "      <td>-0,52%</td>\n",
              "    </tr>\n",
              "    <tr>\n",
              "      <th>14</th>\n",
              "      <td>-0,05</td>\n",
              "      <td>-0,17%</td>\n",
              "    </tr>\n",
              "    <tr>\n",
              "      <th>15</th>\n",
              "      <td>+1,10</td>\n",
              "      <td>+3,97%</td>\n",
              "    </tr>\n",
              "    <tr>\n",
              "      <th>16</th>\n",
              "      <td>+0,05</td>\n",
              "      <td>+0,18%</td>\n",
              "    </tr>\n",
              "    <tr>\n",
              "      <th>17</th>\n",
              "      <td>+0,15</td>\n",
              "      <td>+0,55%</td>\n",
              "    </tr>\n",
              "    <tr>\n",
              "      <th>18</th>\n",
              "      <td>+0,10</td>\n",
              "      <td>+0,36%</td>\n",
              "    </tr>\n",
              "    <tr>\n",
              "      <th>19</th>\n",
              "      <td>+0,30</td>\n",
              "      <td>+1,11%</td>\n",
              "    </tr>\n",
              "  </tbody>\n",
              "</table>\n",
              "</div>"
            ],
            "text/plain": [
              "        0       1\n",
              "0   +0,05  +0,18%\n",
              "1   0,00    0,00%\n",
              "2   +0,10  +0,35%\n",
              "3   +0,45  +1,61%\n",
              "4   +0,35  +1,27%\n",
              "5   -0,30  -1,08%\n",
              "6   0,00    0,00%\n",
              "7   -0,30  -1,06%\n",
              "8   0,00    0,00%\n",
              "9   -0,20  -0,70%\n",
              "10  0,00    0,00%\n",
              "11  -0,10  -0,35%\n",
              "12  -0,10  -0,35%\n",
              "13  -0,15  -0,52%\n",
              "14  -0,05  -0,17%\n",
              "15  +1,10  +3,97%\n",
              "16  +0,05  +0,18%\n",
              "17  +0,15  +0,55%\n",
              "18  +0,10  +0,36%\n",
              "19  +0,30  +1,11%"
            ]
          },
          "metadata": {},
          "execution_count": 54
        }
      ]
    },
    {
      "cell_type": "code",
      "metadata": {
        "colab": {
          "base_uri": "https://localhost:8080/"
        },
        "id": "szgN-r37yjXB",
        "outputId": "8790a3d7-cf0c-4c52-a115-43ffd1bb897a"
      },
      "source": [
        "# Convert về dạng số\n",
        "tang_giam[0].str.replace(',', '.').astype(float)"
      ],
      "execution_count": null,
      "outputs": [
        {
          "output_type": "execute_result",
          "data": {
            "text/plain": [
              "0     0.05\n",
              "1     0.00\n",
              "2     0.10\n",
              "3     0.45\n",
              "4     0.35\n",
              "5    -0.30\n",
              "6     0.00\n",
              "7    -0.30\n",
              "8     0.00\n",
              "9    -0.20\n",
              "10    0.00\n",
              "11   -0.10\n",
              "12   -0.10\n",
              "13   -0.15\n",
              "14   -0.05\n",
              "15    1.10\n",
              "16    0.05\n",
              "17    0.15\n",
              "18    0.10\n",
              "19    0.30\n",
              "Name: 0, dtype: float64"
            ]
          },
          "metadata": {},
          "execution_count": 56
        }
      ]
    },
    {
      "cell_type": "code",
      "metadata": {
        "colab": {
          "base_uri": "https://localhost:8080/"
        },
        "id": "1n-jtzQ8y1d1",
        "outputId": "4e5b23ab-a956-4fc3-e4c2-947790424cbf"
      },
      "source": [
        "# Hoặc tính toán thẳng\n",
        "gia_co_phieu['Mở cửa'].pct_change()"
      ],
      "execution_count": null,
      "outputs": [
        {
          "output_type": "execute_result",
          "data": {
            "text/plain": [
              "0          NaN\n",
              "1    -0.003497\n",
              "2     0.005263\n",
              "3    -0.022688\n",
              "4    -0.010714\n",
              "5     0.009025\n",
              "6     0.007156\n",
              "7     0.012433\n",
              "8     0.000000\n",
              "9     0.000000\n",
              "10    0.008772\n",
              "11    0.000000\n",
              "12    0.000000\n",
              "13    0.012174\n",
              "14    0.001718\n",
              "15   -0.046312\n",
              "16   -0.005396\n",
              "17    0.009042\n",
              "18   -0.014337\n",
              "19   -0.016364\n",
              "Name: Mở cửa, dtype: float64"
            ]
          },
          "metadata": {},
          "execution_count": 58
        }
      ]
    },
    {
      "cell_type": "markdown",
      "metadata": {
        "id": "OGVMJ6lgzeMH"
      },
      "source": [
        "### Gộp nhóm dữ liệu"
      ]
    },
    {
      "cell_type": "code",
      "metadata": {
        "colab": {
          "base_uri": "https://localhost:8080/",
          "height": 424
        },
        "id": "5ziZzFQBzdus",
        "outputId": "e3514ff4-8907-4dec-a981-da21d4ede289"
      },
      "source": [
        "df"
      ],
      "execution_count": null,
      "outputs": [
        {
          "output_type": "execute_result",
          "data": {
            "text/html": [
              "<div>\n",
              "<style scoped>\n",
              "    .dataframe tbody tr th:only-of-type {\n",
              "        vertical-align: middle;\n",
              "    }\n",
              "\n",
              "    .dataframe tbody tr th {\n",
              "        vertical-align: top;\n",
              "    }\n",
              "\n",
              "    .dataframe thead th {\n",
              "        text-align: right;\n",
              "    }\n",
              "</style>\n",
              "<table border=\"1\" class=\"dataframe\">\n",
              "  <thead>\n",
              "    <tr style=\"text-align: right;\">\n",
              "      <th></th>\n",
              "      <th>JeNumber</th>\n",
              "      <th>Header Journal Name</th>\n",
              "      <th>PostDate</th>\n",
              "      <th>Description</th>\n",
              "      <th>AcctNum</th>\n",
              "      <th>Amount</th>\n",
              "      <th>Category</th>\n",
              "    </tr>\n",
              "  </thead>\n",
              "  <tbody>\n",
              "    <tr>\n",
              "      <th>0</th>\n",
              "      <td>4933786</td>\n",
              "      <td>5-2020External Revenue</td>\n",
              "      <td>2019-07-01</td>\n",
              "      <td>Journal Import 2911969:</td>\n",
              "      <td>10005</td>\n",
              "      <td>72101.45</td>\n",
              "      <td>External Revenue</td>\n",
              "    </tr>\n",
              "    <tr>\n",
              "      <th>1</th>\n",
              "      <td>4817578</td>\n",
              "      <td>4-2020Purchase Invoices</td>\n",
              "      <td>2019-06-14</td>\n",
              "      <td>Invoice Voucher Number : 365100001327 , Invoic...</td>\n",
              "      <td>60105</td>\n",
              "      <td>-99780.00</td>\n",
              "      <td>Purchase Invoices</td>\n",
              "    </tr>\n",
              "    <tr>\n",
              "      <th>2</th>\n",
              "      <td>4817578</td>\n",
              "      <td>4-2020Purchase Invoices</td>\n",
              "      <td>2019-06-14</td>\n",
              "      <td>Invoice Voucher Number : 365100001323 , Invoic...</td>\n",
              "      <td>60105</td>\n",
              "      <td>-36380.00</td>\n",
              "      <td>Purchase Invoices</td>\n",
              "    </tr>\n",
              "    <tr>\n",
              "      <th>3</th>\n",
              "      <td>4817578</td>\n",
              "      <td>4-2020Purchase Invoices</td>\n",
              "      <td>2019-06-14</td>\n",
              "      <td>Invoice Voucher Number : 365100001342 , Invoic...</td>\n",
              "      <td>60105</td>\n",
              "      <td>-437.00</td>\n",
              "      <td>Purchase Invoices</td>\n",
              "    </tr>\n",
              "    <tr>\n",
              "      <th>4</th>\n",
              "      <td>4817578</td>\n",
              "      <td>4-2020Purchase Invoices</td>\n",
              "      <td>2019-06-14</td>\n",
              "      <td>Invoice Voucher Number : 365100001337 , Invoic...</td>\n",
              "      <td>60105</td>\n",
              "      <td>-67945.00</td>\n",
              "      <td>Purchase Invoices</td>\n",
              "    </tr>\n",
              "    <tr>\n",
              "      <th>...</th>\n",
              "      <td>...</td>\n",
              "      <td>...</td>\n",
              "      <td>...</td>\n",
              "      <td>...</td>\n",
              "      <td>...</td>\n",
              "      <td>...</td>\n",
              "      <td>...</td>\n",
              "    </tr>\n",
              "    <tr>\n",
              "      <th>995</th>\n",
              "      <td>5151872</td>\n",
              "      <td>7-2020Purchase Invoices</td>\n",
              "      <td>2019-09-11</td>\n",
              "      <td>Invoice Voucher Number : 365100001907 , Invoic...</td>\n",
              "      <td>60105</td>\n",
              "      <td>-154.06</td>\n",
              "      <td>Purchase Invoices</td>\n",
              "    </tr>\n",
              "    <tr>\n",
              "      <th>996</th>\n",
              "      <td>5151872</td>\n",
              "      <td>7-2020Purchase Invoices</td>\n",
              "      <td>2019-09-11</td>\n",
              "      <td>Invoice Voucher Number : 365100001907 , Invoic...</td>\n",
              "      <td>60105</td>\n",
              "      <td>-15992.47</td>\n",
              "      <td>Purchase Invoices</td>\n",
              "    </tr>\n",
              "    <tr>\n",
              "      <th>997</th>\n",
              "      <td>5059806</td>\n",
              "      <td>6-2020Sales Invoices</td>\n",
              "      <td>2019-08-15</td>\n",
              "      <td>Customer Name: EK-Chai Distribution System Co....</td>\n",
              "      <td>62510</td>\n",
              "      <td>-23776.20</td>\n",
              "      <td>Sales Invoices</td>\n",
              "    </tr>\n",
              "    <tr>\n",
              "      <th>998</th>\n",
              "      <td>4824686</td>\n",
              "      <td>4-2020Receipts</td>\n",
              "      <td>2019-06-17</td>\n",
              "      <td>Receipt Application Status: APP Customer Name:...</td>\n",
              "      <td>55060</td>\n",
              "      <td>-324480.00</td>\n",
              "      <td>Receipts</td>\n",
              "    </tr>\n",
              "    <tr>\n",
              "      <th>999</th>\n",
              "      <td>5059806</td>\n",
              "      <td>6-2020Sales Invoices</td>\n",
              "      <td>2019-08-30</td>\n",
              "      <td>Customer Name: Kinetic Worldwide (Thailand) Lt...</td>\n",
              "      <td>62510</td>\n",
              "      <td>-83160.00</td>\n",
              "      <td>Sales Invoices</td>\n",
              "    </tr>\n",
              "  </tbody>\n",
              "</table>\n",
              "<p>1000 rows × 7 columns</p>\n",
              "</div>"
            ],
            "text/plain": [
              "     JeNumber       Header Journal Name  ...     Amount           Category\n",
              "0     4933786   5-2020External Revenue   ...   72101.45   External Revenue\n",
              "1     4817578  4-2020Purchase Invoices   ...  -99780.00  Purchase Invoices\n",
              "2     4817578  4-2020Purchase Invoices   ...  -36380.00  Purchase Invoices\n",
              "3     4817578  4-2020Purchase Invoices   ...    -437.00  Purchase Invoices\n",
              "4     4817578  4-2020Purchase Invoices   ...  -67945.00  Purchase Invoices\n",
              "..        ...                       ...  ...        ...                ...\n",
              "995   5151872  7-2020Purchase Invoices   ...    -154.06  Purchase Invoices\n",
              "996   5151872  7-2020Purchase Invoices   ...  -15992.47  Purchase Invoices\n",
              "997   5059806     6-2020Sales Invoices   ...  -23776.20     Sales Invoices\n",
              "998   4824686           4-2020Receipts   ... -324480.00           Receipts\n",
              "999   5059806     6-2020Sales Invoices   ...  -83160.00     Sales Invoices\n",
              "\n",
              "[1000 rows x 7 columns]"
            ]
          },
          "metadata": {},
          "execution_count": 59
        }
      ]
    },
    {
      "cell_type": "code",
      "metadata": {
        "colab": {
          "base_uri": "https://localhost:8080/"
        },
        "id": "MGJ8vACfzl2f",
        "outputId": "599d92bd-6131-40b7-abcd-c8ff34f1f6ed"
      },
      "source": [
        "# Gộp nhóm theo Account Number\n",
        "df.groupby('AcctNum')['Amount'].sum()"
      ],
      "execution_count": null,
      "outputs": [
        {
          "output_type": "execute_result",
          "data": {
            "text/plain": [
              "AcctNum\n",
              "10005   -3.468617e+07\n",
              "10805   -7.671108e+05\n",
              "11205    2.484121e+06\n",
              "11805    6.831426e+06\n",
              "15855   -3.000000e+05\n",
              "20105    1.500000e+03\n",
              "20210    3.144700e+02\n",
              "20215    1.891043e+04\n",
              "20220    3.672304e+04\n",
              "20225    1.038298e+04\n",
              "26015    8.660070e+04\n",
              "26020    8.140000e+03\n",
              "26035   -2.652520e+03\n",
              "26055    1.138926e+05\n",
              "26060    4.466310e+03\n",
              "26065    1.396000e+04\n",
              "26120    2.100000e+02\n",
              "27035   -8.671751e+04\n",
              "43505   -5.299600e+02\n",
              "45505   -2.773600e+02\n",
              "46505   -2.639270e+03\n",
              "50005   -9.895992e+06\n",
              "50105    1.626306e+07\n",
              "50115   -3.640000e+05\n",
              "51025    1.066694e+07\n",
              "51040   -1.154412e+05\n",
              "54510    1.826253e+05\n",
              "55060    5.513216e+06\n",
              "60105   -1.440104e+07\n",
              "61205   -4.336932e+07\n",
              "61510    3.322548e+04\n",
              "62110   -3.935091e+05\n",
              "62125    5.895720e+05\n",
              "62510   -1.569291e+06\n",
              "66055    4.270578e+06\n",
              "66057    3.682855e+07\n",
              "66070   -1.659076e+08\n",
              "Name: Amount, dtype: float64"
            ]
          },
          "metadata": {},
          "execution_count": 61
        }
      ]
    },
    {
      "cell_type": "code",
      "metadata": {
        "colab": {
          "base_uri": "https://localhost:8080/"
        },
        "id": "7miXOXMNzzgr",
        "outputId": "d2e99cbf-51eb-4a21-a5c1-01bab7f8d567"
      },
      "source": [
        "# Gộp nhóm theo Category và Account Number\n",
        "df.groupby(['Category', 'AcctNum'])['Amount'].sum()"
      ],
      "execution_count": null,
      "outputs": [
        {
          "output_type": "execute_result",
          "data": {
            "text/plain": [
              "Category                AcctNum\n",
              "Billing Offset Reclass  51025      1.006186e+06\n",
              "                        66070     -1.461469e+08\n",
              "Credit Memos            50005     -1.656820e+06\n",
              "                        62125     -4.255000e+04\n",
              "                        62510      2.339366e+05\n",
              "                        66070      2.200000e+06\n",
              "Deliver                 11205      2.484121e+06\n",
              "                        11805      6.831426e+06\n",
              "                        26015      8.660070e+04\n",
              "                        26020      8.140000e+03\n",
              "                        26035     -2.652520e+03\n",
              "                        26065      9.800000e+03\n",
              "                        27035     -8.671751e+04\n",
              "                        66057     -7.895145e+05\n",
              "Depreciation            26055      1.138926e+05\n",
              "                        26060      4.466310e+03\n",
              "                        43505     -5.299600e+02\n",
              "                        45505     -2.773600e+02\n",
              "                        46505     -2.639270e+03\n",
              "External Revenue        10005     -3.468617e+07\n",
              "                        10805     -7.671108e+05\n",
              "                        51025      9.660756e+06\n",
              "Labor Cost              51040     -1.154412e+05\n",
              "Miscellaneous           15855     -3.000000e+05\n",
              "                        55060     -6.127290e+05\n",
              "Payments                55060     -5.930227e+04\n",
              "                        60105      2.126731e+06\n",
              "                        62110     -6.187485e+04\n",
              "Purchase Invoices       20105      1.500000e+03\n",
              "                        20210      3.144700e+02\n",
              "                        20215      1.891043e+04\n",
              "                        20220      3.672304e+04\n",
              "                        20225      1.038298e+04\n",
              "                        26065      4.160000e+03\n",
              "                        26120      2.100000e+02\n",
              "                        54510      1.826253e+05\n",
              "                        60105     -1.652777e+07\n",
              "                        61205     -4.336932e+07\n",
              "                        61510      3.322548e+04\n",
              "                        66055      6.440370e+06\n",
              "Receipts                50005     -1.959361e+07\n",
              "                        50115     -3.640000e+05\n",
              "                        55060     -8.029063e+06\n",
              "                        62110     -3.316342e+05\n",
              "                        62125      6.481920e+04\n",
              "Receiving               66055     -2.169792e+06\n",
              "                        66057      3.761807e+07\n",
              "Reconciled Payments     55060      1.421431e+07\n",
              "Sales Invoices          50005      1.135443e+07\n",
              "                        50105      1.626306e+07\n",
              "                        62125      5.673028e+05\n",
              "                        62510     -1.803228e+06\n",
              "                        66070     -2.196074e+07\n",
              "Name: Amount, dtype: float64"
            ]
          },
          "metadata": {},
          "execution_count": 63
        }
      ]
    },
    {
      "cell_type": "markdown",
      "metadata": {
        "id": "16IUU26f0Dvt"
      },
      "source": [
        "### Pivot Table"
      ]
    },
    {
      "cell_type": "code",
      "metadata": {
        "id": "UV25v6BK0PM5"
      },
      "source": [
        "# Tạo dữ liệu theo năm và quý\n",
        "df['PostDate'] = pd.to_datetime(df['PostDate'])\n",
        "quarter = df['PostDate'].dt.quarter\n",
        "year = df['PostDate'].dt.year"
      ],
      "execution_count": null,
      "outputs": []
    },
    {
      "cell_type": "code",
      "metadata": {
        "colab": {
          "base_uri": "https://localhost:8080/",
          "height": 261
        },
        "id": "9P8sEqxh0HG4",
        "outputId": "b450c82d-5c81-4d48-cf9e-97f2a017cf6b"
      },
      "source": [
        "df.pivot_table(\n",
        "    index=[year, quarter],\n",
        "    columns='Category',\n",
        "    values='Amount',\n",
        "    aggfunc='sum'\n",
        ")"
      ],
      "execution_count": null,
      "outputs": [
        {
          "output_type": "execute_result",
          "data": {
            "text/html": [
              "<div>\n",
              "<style scoped>\n",
              "    .dataframe tbody tr th:only-of-type {\n",
              "        vertical-align: middle;\n",
              "    }\n",
              "\n",
              "    .dataframe tbody tr th {\n",
              "        vertical-align: top;\n",
              "    }\n",
              "\n",
              "    .dataframe thead th {\n",
              "        text-align: right;\n",
              "    }\n",
              "</style>\n",
              "<table border=\"1\" class=\"dataframe\">\n",
              "  <thead>\n",
              "    <tr style=\"text-align: right;\">\n",
              "      <th></th>\n",
              "      <th>Category</th>\n",
              "      <th>Billing Offset Reclass</th>\n",
              "      <th>Credit Memos</th>\n",
              "      <th>Deliver</th>\n",
              "      <th>Depreciation</th>\n",
              "      <th>External Revenue</th>\n",
              "      <th>Labor Cost</th>\n",
              "      <th>Miscellaneous</th>\n",
              "      <th>Payments</th>\n",
              "      <th>Purchase Invoices</th>\n",
              "      <th>Receipts</th>\n",
              "      <th>Receiving</th>\n",
              "      <th>Reconciled Payments</th>\n",
              "      <th>Sales Invoices</th>\n",
              "    </tr>\n",
              "    <tr>\n",
              "      <th>PostDate</th>\n",
              "      <th>PostDate</th>\n",
              "      <th></th>\n",
              "      <th></th>\n",
              "      <th></th>\n",
              "      <th></th>\n",
              "      <th></th>\n",
              "      <th></th>\n",
              "      <th></th>\n",
              "      <th></th>\n",
              "      <th></th>\n",
              "      <th></th>\n",
              "      <th></th>\n",
              "      <th></th>\n",
              "      <th></th>\n",
              "    </tr>\n",
              "  </thead>\n",
              "  <tbody>\n",
              "    <tr>\n",
              "      <th rowspan=\"4\" valign=\"top\">2019</th>\n",
              "      <th>1</th>\n",
              "      <td>-3.000000e+05</td>\n",
              "      <td>-617760.00</td>\n",
              "      <td>NaN</td>\n",
              "      <td>53568.70</td>\n",
              "      <td>-278678.00</td>\n",
              "      <td>NaN</td>\n",
              "      <td>NaN</td>\n",
              "      <td>NaN</td>\n",
              "      <td>-5288830.04</td>\n",
              "      <td>-4178546.32</td>\n",
              "      <td>NaN</td>\n",
              "      <td>NaN</td>\n",
              "      <td>NaN</td>\n",
              "    </tr>\n",
              "    <tr>\n",
              "      <th>2</th>\n",
              "      <td>NaN</td>\n",
              "      <td>NaN</td>\n",
              "      <td>7602535.17</td>\n",
              "      <td>16196.18</td>\n",
              "      <td>7431529.75</td>\n",
              "      <td>-115441.18</td>\n",
              "      <td>-612729.0</td>\n",
              "      <td>1791756.05</td>\n",
              "      <td>-49075146.26</td>\n",
              "      <td>-9566556.15</td>\n",
              "      <td>27397.94</td>\n",
              "      <td>11846889.72</td>\n",
              "      <td>-881134.28</td>\n",
              "    </tr>\n",
              "    <tr>\n",
              "      <th>3</th>\n",
              "      <td>-1.539176e+08</td>\n",
              "      <td>1032886.57</td>\n",
              "      <td>-606417.02</td>\n",
              "      <td>10212.83</td>\n",
              "      <td>-31905609.04</td>\n",
              "      <td>NaN</td>\n",
              "      <td>-300000.0</td>\n",
              "      <td>235775.73</td>\n",
              "      <td>977081.36</td>\n",
              "      <td>-14366046.36</td>\n",
              "      <td>-804212.78</td>\n",
              "      <td>2897677.57</td>\n",
              "      <td>-7040646.88</td>\n",
              "    </tr>\n",
              "    <tr>\n",
              "      <th>4</th>\n",
              "      <td>9.076869e+06</td>\n",
              "      <td>319440.00</td>\n",
              "      <td>1545085.02</td>\n",
              "      <td>34934.66</td>\n",
              "      <td>-1039766.00</td>\n",
              "      <td>NaN</td>\n",
              "      <td>NaN</td>\n",
              "      <td>-21978.30</td>\n",
              "      <td>218233.56</td>\n",
              "      <td>-142335.30</td>\n",
              "      <td>36225090.58</td>\n",
              "      <td>-530256.48</td>\n",
              "      <td>12342613.60</td>\n",
              "    </tr>\n",
              "  </tbody>\n",
              "</table>\n",
              "</div>"
            ],
            "text/plain": [
              "Category           Billing Offset Reclass  ...  Sales Invoices\n",
              "PostDate PostDate                          ...                \n",
              "2019     1                  -3.000000e+05  ...             NaN\n",
              "         2                            NaN  ...      -881134.28\n",
              "         3                  -1.539176e+08  ...     -7040646.88\n",
              "         4                   9.076869e+06  ...     12342613.60\n",
              "\n",
              "[4 rows x 13 columns]"
            ]
          },
          "metadata": {},
          "execution_count": 71
        }
      ]
    },
    {
      "cell_type": "markdown",
      "metadata": {
        "id": "pS6aVqhc1RKn"
      },
      "source": [
        "## Một số ứng dụng của Python"
      ]
    },
    {
      "cell_type": "markdown",
      "metadata": {
        "id": "DYNG9alC1V-k"
      },
      "source": [
        "### Dịch Google tự động"
      ]
    },
    {
      "cell_type": "code",
      "metadata": {
        "id": "YoqsIdfmFone"
      },
      "source": [
        "!pip install pandas"
      ],
      "execution_count": null,
      "outputs": []
    },
    {
      "cell_type": "code",
      "metadata": {
        "colab": {
          "base_uri": "https://localhost:8080/"
        },
        "id": "W99xAkurCXvw",
        "outputId": "2ae51b80-0ef9-47cb-faa4-842024563f67"
      },
      "source": [
        "# Cài đạt công cụ dịch từ Google\n",
        "!pip install --upgrade googletrans==3.1.0a0"
      ],
      "execution_count": 1,
      "outputs": [
        {
          "output_type": "stream",
          "name": "stdout",
          "text": [
            "Collecting googletrans==3.1.0a0\n",
            "  Downloading googletrans-3.1.0a0.tar.gz (19 kB)\n",
            "Collecting httpx==0.13.3\n",
            "  Downloading httpx-0.13.3-py3-none-any.whl (55 kB)\n",
            "\u001b[K     |████████████████████████████████| 55 kB 2.5 MB/s \n",
            "\u001b[?25hCollecting httpcore==0.9.*\n",
            "  Downloading httpcore-0.9.1-py3-none-any.whl (42 kB)\n",
            "\u001b[K     |████████████████████████████████| 42 kB 970 kB/s \n",
            "\u001b[?25hCollecting rfc3986<2,>=1.3\n",
            "  Downloading rfc3986-1.5.0-py2.py3-none-any.whl (31 kB)\n",
            "Requirement already satisfied: certifi in /usr/local/lib/python3.7/dist-packages (from httpx==0.13.3->googletrans==3.1.0a0) (2021.5.30)\n",
            "Requirement already satisfied: chardet==3.* in /usr/local/lib/python3.7/dist-packages (from httpx==0.13.3->googletrans==3.1.0a0) (3.0.4)\n",
            "Collecting sniffio\n",
            "  Downloading sniffio-1.2.0-py3-none-any.whl (10 kB)\n",
            "Requirement already satisfied: idna==2.* in /usr/local/lib/python3.7/dist-packages (from httpx==0.13.3->googletrans==3.1.0a0) (2.10)\n",
            "Collecting hstspreload\n",
            "  Downloading hstspreload-2021.11.1-py3-none-any.whl (1.3 MB)\n",
            "\u001b[K     |████████████████████████████████| 1.3 MB 23.6 MB/s \n",
            "\u001b[?25hCollecting h11<0.10,>=0.8\n",
            "  Downloading h11-0.9.0-py2.py3-none-any.whl (53 kB)\n",
            "\u001b[K     |████████████████████████████████| 53 kB 1.8 MB/s \n",
            "\u001b[?25hCollecting h2==3.*\n",
            "  Downloading h2-3.2.0-py2.py3-none-any.whl (65 kB)\n",
            "\u001b[K     |████████████████████████████████| 65 kB 2.9 MB/s \n",
            "\u001b[?25hCollecting hyperframe<6,>=5.2.0\n",
            "  Downloading hyperframe-5.2.0-py2.py3-none-any.whl (12 kB)\n",
            "Collecting hpack<4,>=3.0\n",
            "  Downloading hpack-3.0.0-py2.py3-none-any.whl (38 kB)\n",
            "Building wheels for collected packages: googletrans\n",
            "  Building wheel for googletrans (setup.py) ... \u001b[?25l\u001b[?25hdone\n",
            "  Created wheel for googletrans: filename=googletrans-3.1.0a0-py3-none-any.whl size=16367 sha256=596b8b12ed97c4e36c2401ac019ce776beaa1df50d492565ac4bed9cdd167bd5\n",
            "  Stored in directory: /root/.cache/pip/wheels/0c/be/fe/93a6a40ffe386e16089e44dad9018ebab9dc4cb9eb7eab65ae\n",
            "Successfully built googletrans\n",
            "Installing collected packages: hyperframe, hpack, sniffio, h2, h11, rfc3986, httpcore, hstspreload, httpx, googletrans\n",
            "Successfully installed googletrans-3.1.0a0 h11-0.9.0 h2-3.2.0 hpack-3.0.0 hstspreload-2021.11.1 httpcore-0.9.1 httpx-0.13.3 hyperframe-5.2.0 rfc3986-1.5.0 sniffio-1.2.0\n"
          ]
        }
      ]
    },
    {
      "cell_type": "code",
      "metadata": {
        "id": "yTc21VCo0CYq"
      },
      "source": [
        "from googletrans import Translator"
      ],
      "execution_count": 2,
      "outputs": []
    },
    {
      "cell_type": "code",
      "metadata": {
        "id": "tIpBqzYa4v_7"
      },
      "source": [
        "translator = Translator()"
      ],
      "execution_count": 13,
      "outputs": []
    },
    {
      "cell_type": "code",
      "metadata": {
        "id": "OxsiaWTx1P12"
      },
      "source": [
        "to_translated = ['Hello World', 'Deloitte As One', 'Make An Impact']\n",
        "translated = translator.translate(to_translated, src='en', dest='vi')"
      ],
      "execution_count": 4,
      "outputs": []
    },
    {
      "cell_type": "code",
      "metadata": {
        "colab": {
          "base_uri": "https://localhost:8080/"
        },
        "id": "U_uggIep2aWp",
        "outputId": "bdb989bb-a105-422a-ca0d-e41b19faeff5"
      },
      "source": [
        "[i.text for i in translated]"
      ],
      "execution_count": 5,
      "outputs": [
        {
          "output_type": "execute_result",
          "data": {
            "text/plain": [
              "['Chào thế giới', 'Deloitte như một', 'Tạo tác động']"
            ]
          },
          "metadata": {},
          "execution_count": 5
        }
      ]
    },
    {
      "cell_type": "code",
      "metadata": {
        "colab": {
          "base_uri": "https://localhost:8080/",
          "height": 424
        },
        "id": "kgXdUQhwQYZp",
        "outputId": "c6d4aaa7-916d-45fa-c5d3-47bb3e81aeef"
      },
      "source": [
        "lyrics = pd.read_excel('https://github.com/tdoan89/ml-dataset/raw/main/troi_hom_nay_nhieu_may_cuc_lyrics_den_vau.xlsx', header=None, names=['line'])\n",
        "lyrics"
      ],
      "execution_count": 11,
      "outputs": [
        {
          "output_type": "execute_result",
          "data": {
            "text/html": [
              "<div>\n",
              "<style scoped>\n",
              "    .dataframe tbody tr th:only-of-type {\n",
              "        vertical-align: middle;\n",
              "    }\n",
              "\n",
              "    .dataframe tbody tr th {\n",
              "        vertical-align: top;\n",
              "    }\n",
              "\n",
              "    .dataframe thead th {\n",
              "        text-align: right;\n",
              "    }\n",
              "</style>\n",
              "<table border=\"1\" class=\"dataframe\">\n",
              "  <thead>\n",
              "    <tr style=\"text-align: right;\">\n",
              "      <th></th>\n",
              "      <th>line</th>\n",
              "    </tr>\n",
              "  </thead>\n",
              "  <tbody>\n",
              "    <tr>\n",
              "      <th>0</th>\n",
              "      <td>Trời hôm nay nhiều mây cực</td>\n",
              "    </tr>\n",
              "    <tr>\n",
              "      <th>1</th>\n",
              "      <td>Đặt bàn tay mình ngay ngực</td>\n",
              "    </tr>\n",
              "    <tr>\n",
              "      <th>2</th>\n",
              "      <td>Nghe con tim mình xóc nảy</td>\n",
              "    </tr>\n",
              "    <tr>\n",
              "      <th>3</th>\n",
              "      <td>Chiều mướt mải làn tóc bay</td>\n",
              "    </tr>\n",
              "    <tr>\n",
              "      <th>4</th>\n",
              "      <td>Tâm tư tựa như bánh tráng</td>\n",
              "    </tr>\n",
              "    <tr>\n",
              "      <th>...</th>\n",
              "      <td>...</td>\n",
              "    </tr>\n",
              "    <tr>\n",
              "      <th>94</th>\n",
              "      <td>Học cách làm chủ được mình trước khi làm chủ ai</td>\n",
              "    </tr>\n",
              "    <tr>\n",
              "      <th>95</th>\n",
              "      <td>Ở trong rừng an toàn hơn ở trên mạng</td>\n",
              "    </tr>\n",
              "    <tr>\n",
              "      <th>96</th>\n",
              "      <td>Một mình vẫn tốt hơn là mất thêm bạn</td>\n",
              "    </tr>\n",
              "    <tr>\n",
              "      <th>97</th>\n",
              "      <td>Thế giới này không phải của chúng mình đâu</td>\n",
              "    </tr>\n",
              "    <tr>\n",
              "      <th>98</th>\n",
              "      <td>Loài người được đằng chân rồi lân đằng đầu</td>\n",
              "    </tr>\n",
              "  </tbody>\n",
              "</table>\n",
              "<p>99 rows × 1 columns</p>\n",
              "</div>"
            ],
            "text/plain": [
              "                                               line\n",
              "0                        Trời hôm nay nhiều mây cực\n",
              "1                        Đặt bàn tay mình ngay ngực\n",
              "2                         Nghe con tim mình xóc nảy\n",
              "3                        Chiều mướt mải làn tóc bay\n",
              "4                         Tâm tư tựa như bánh tráng\n",
              "..                                              ...\n",
              "94  Học cách làm chủ được mình trước khi làm chủ ai\n",
              "95             Ở trong rừng an toàn hơn ở trên mạng\n",
              "96             Một mình vẫn tốt hơn là mất thêm bạn\n",
              "97       Thế giới này không phải của chúng mình đâu\n",
              "98       Loài người được đằng chân rồi lân đằng đầu\n",
              "\n",
              "[99 rows x 1 columns]"
            ]
          },
          "metadata": {},
          "execution_count": 11
        }
      ]
    },
    {
      "cell_type": "code",
      "metadata": {
        "id": "xBbRC1lCQ-Gk"
      },
      "source": [
        "translated = translator.translate(lyrics['line'].tolist(), src='vi', dest='en')"
      ],
      "execution_count": 15,
      "outputs": []
    },
    {
      "cell_type": "code",
      "metadata": {
        "colab": {
          "base_uri": "https://localhost:8080/"
        },
        "id": "IzH_JVX4RhGc",
        "outputId": "24f6de03-32f7-4018-a96c-beaa29c581f6"
      },
      "source": [
        "for i in translated:\n",
        "  print(i.text)"
      ],
      "execution_count": 16,
      "outputs": [
        {
          "output_type": "stream",
          "name": "stdout",
          "text": [
            "It's very cloudy today\n",
            "Put your hand on your chest\n",
            "Hear my heart beat\n",
            "Smooth afternoon with flying hair\n",
            "Mind is like rice paper\n",
            "Thin and has the color of cockroach wings\n",
            "I don't want my heart to be gloomy\n",
            "In the middle of a room full of light\n",
            "Take the car and leave the city far away\n",
            "That place sometimes makes it difficult for me\n",
            "Not carrying anyone should have momentum\n",
            "Up the slope by number three\n",
            "Going back to the small way again\n",
            "When you look at the sky, your head is on the grass\n",
            "Shape the sun into a red mass\n",
            "Sometimes close your eyes to see clearly\n",
            "Close your eyes, the sky is dark\n",
            "Gather clouds into a pillow\n",
            "Compounding sorrow into a mass of straw\n",
            "The fire of the heart burns with the scent of smoke\n",
            "The forest is silent and silent\n",
            "Shut up until I hear a needle drop\n",
            "Running away from each other\n",
            "This afternoon the sun brings the heart to dry\n",
            "Going into the forest alone without inviting anyone\n",
            "Breasts full of mother earth, make me high enough\n",
            "Will always be good people, like deer\n",
            "Learn to master yourself before you master anyone\n",
            "It's safer in the woods than online\n",
            "It's better to be alone than to lose more friends\n",
            "This world is not ours\n",
            "Humans have their feet and then their heads\n",
            "I am manipulated by space\n",
            "Frustrated by time\n",
            "Limited in full\n",
            "In the nights of contemplation and sleep\n",
            "How many pairs are in the shoe cabinet?\n",
            "Is the other path easy to walk?\n",
            "Wrap more shirts and add pants\n",
            "But people's hearts are still easily scratched\n",
            "Life is so strange, right?\n",
            "Don't make me choose between guns and flowers\n",
            "Don't grab your heel and dip it\n",
            "We belong to us\n",
            "After all, everyone will be forced to grow up\n",
            "The pain will come one day sooner or later\n",
            "No longer young\n",
            "Five to three years old\n",
            "Think twice before putting a tattoo on your skin\n",
            "Work hard to continue writing so that the white nights turn into silver nights\n",
            "The only greed is to have more music in my head\n",
            "And still refuses the sleep that comes to ask for a warm kiss\n",
            "Even knowing that one day everything will become \"plastic aluminum iron copper\"\n",
            "Later, later, later\n",
            "I just hope I don't frown anymore\n",
            "Learn how to calm yourself\n",
            "From this joy to this pain\n",
            "And hope to still laugh, day\n",
            "Clouds pull white over the hair\n",
            "Still have not met Tang Thanh Ha\n",
            "But sometimes I suddenly want to cry\n",
            "Going into the forest alone without inviting anyone\n",
            "Breasts full of mother earth, make me high enough\n",
            "Will always be good people, like deer\n",
            "Learn to master yourself before you master anyone\n",
            "It's safer in the woods than online\n",
            "It's better to be alone than to lose more friends\n",
            "This world is not ours\n",
            "Humans have their feet and then their heads\n",
            "If you give me the throne, I will sell it for money to buy bread\n",
            "Buy beef cakes, pia cakes, moon cakes and crave for banh can\n",
            "Also to save water, so many times just bathe in the moonlight\n",
            "No matter what you do, you have to brush your teeth twice a day\n",
            "When I was a child, I often wondered\n",
            "There's something on the moon\n",
            "If it's Uncle Cuoi and Sister Hang\n",
            "What do they take for food?\n",
            "Then came first love, the first night\n",
            "You are fragrant and sweet like a durian\n",
            "At that time, my heart was like painted pink\n",
            "Still shy like a bird holding a cage\n",
            "Like a painting by Levitan\n",
            "The love season that year was so golden\n",
            "I'm like a little deer\n",
            "You are the autumn leaves, oh\n",
            "Love is like a microwave oven, warming us from the inside out\n",
            "Bringing many aftertaste like Dong Ba market food\n",
            "Unfortunately, I did not meet the ferryman in Song Da\n",
            "So I went to Day Gate, I went back to Son La\n",
            "I rush into the reels\n",
            "I don't feel so sad now\n",
            "Going into the forest alone without inviting anyone\n",
            "Breasts full of mother earth, make me high enough\n",
            "Will always be good people, like deer\n",
            "Learn to master yourself before you master anyone\n",
            "It's safer in the woods than online\n",
            "It's better to be alone than to lose more friends\n",
            "This world is not ours\n",
            "Humans have their feet and then their heads\n"
          ]
        }
      ]
    },
    {
      "cell_type": "markdown",
      "metadata": {
        "id": "HecMSCVd2liE"
      },
      "source": [
        "### Đọc dữ liệu từ bảng PDF"
      ]
    },
    {
      "cell_type": "code",
      "metadata": {
        "colab": {
          "base_uri": "https://localhost:8080/"
        },
        "id": "l58V162H2k5g",
        "outputId": "cbb3ab03-5541-4d35-cf49-0e671e071946"
      },
      "source": [
        "# Công cụ đọc dữ liệu bảng từ file PDF\n",
        "!pip install tabula-py "
      ],
      "execution_count": 18,
      "outputs": [
        {
          "output_type": "stream",
          "name": "stdout",
          "text": [
            "Requirement already satisfied: tabula-py in /usr/local/lib/python3.7/dist-packages (2.3.0)\n",
            "Requirement already satisfied: pandas>=0.25.3 in /usr/local/lib/python3.7/dist-packages (from tabula-py) (1.1.5)\n",
            "Requirement already satisfied: numpy in /usr/local/lib/python3.7/dist-packages (from tabula-py) (1.19.5)\n",
            "Requirement already satisfied: distro in /usr/local/lib/python3.7/dist-packages (from tabula-py) (1.6.0)\n",
            "Requirement already satisfied: pytz>=2017.2 in /usr/local/lib/python3.7/dist-packages (from pandas>=0.25.3->tabula-py) (2018.9)\n",
            "Requirement already satisfied: python-dateutil>=2.7.3 in /usr/local/lib/python3.7/dist-packages (from pandas>=0.25.3->tabula-py) (2.8.2)\n",
            "Requirement already satisfied: six>=1.5 in /usr/local/lib/python3.7/dist-packages (from python-dateutil>=2.7.3->pandas>=0.25.3->tabula-py) (1.15.0)\n"
          ]
        }
      ]
    },
    {
      "cell_type": "code",
      "metadata": {
        "id": "bb8N3NMm4kw8"
      },
      "source": [
        "import tabula"
      ],
      "execution_count": 19,
      "outputs": []
    },
    {
      "cell_type": "code",
      "metadata": {
        "id": "DaD0Z7SS4Yin"
      },
      "source": [
        "tables = tabula.read_pdf(\n",
        "    'https://github.com/tdoan89/ml-dataset/raw/main/sample_CIC_result.pdf', \n",
        "    pages=[1]\n",
        "  )"
      ],
      "execution_count": 20,
      "outputs": []
    },
    {
      "cell_type": "code",
      "metadata": {
        "colab": {
          "base_uri": "https://localhost:8080/",
          "height": 175
        },
        "id": "UXDfHZSf5WhH",
        "outputId": "915c07e8-cf45-4127-d50a-2b9b1b493e24"
      },
      "source": [
        "tables[2]"
      ],
      "execution_count": 21,
      "outputs": [
        {
          "output_type": "execute_result",
          "data": {
            "text/html": [
              "<div>\n",
              "<style scoped>\n",
              "    .dataframe tbody tr th:only-of-type {\n",
              "        vertical-align: middle;\n",
              "    }\n",
              "\n",
              "    .dataframe tbody tr th {\n",
              "        vertical-align: top;\n",
              "    }\n",
              "\n",
              "    .dataframe thead th {\n",
              "        text-align: right;\n",
              "    }\n",
              "</style>\n",
              "<table border=\"1\" class=\"dataframe\">\n",
              "  <thead>\n",
              "    <tr style=\"text-align: right;\">\n",
              "      <th></th>\n",
              "      <th>Tên khách hàng:</th>\n",
              "      <th>NGUYEN THI HUONG THAO</th>\n",
              "    </tr>\n",
              "  </thead>\n",
              "  <tbody>\n",
              "    <tr>\n",
              "      <th>0</th>\n",
              "      <td>Mã số CIC:</td>\n",
              "      <td>0134308947</td>\n",
              "    </tr>\n",
              "    <tr>\n",
              "      <th>1</th>\n",
              "      <td>Ðịa chỉ:</td>\n",
              "      <td>106 HOANG QUOC VIET CAU GIAY</td>\n",
              "    </tr>\n",
              "    <tr>\n",
              "      <th>2</th>\n",
              "      <td>Số chứng minh nhân\\rdân:</td>\n",
              "      <td>132181980</td>\n",
              "    </tr>\n",
              "    <tr>\n",
              "      <th>3</th>\n",
              "      <td>Giấy tờ cá nhân khác:</td>\n",
              "      <td>NaN</td>\n",
              "    </tr>\n",
              "  </tbody>\n",
              "</table>\n",
              "</div>"
            ],
            "text/plain": [
              "            Tên khách hàng:         NGUYEN THI HUONG THAO\n",
              "0                Mã số CIC:                    0134308947\n",
              "1                  Ðịa chỉ:  106 HOANG QUOC VIET CAU GIAY\n",
              "2  Số chứng minh nhân\\rdân:                     132181980\n",
              "3     Giấy tờ cá nhân khác:                           NaN"
            ]
          },
          "metadata": {},
          "execution_count": 21
        }
      ]
    },
    {
      "cell_type": "code",
      "metadata": {
        "id": "SipTCrX1W2Y2"
      },
      "source": [
        ""
      ],
      "execution_count": null,
      "outputs": []
    }
  ]
}